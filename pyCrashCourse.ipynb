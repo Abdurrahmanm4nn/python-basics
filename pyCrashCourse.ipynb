{
 "cells": [
  {
   "cell_type": "markdown",
   "metadata": {},
   "source": [
    "# Python Crash Course\n",
    "Pada pertemuan hari ini, kita akan membahas dasar-dasar pemrograman Python. Python adalah bahasa pemrograman yang lazim digunakan di dunia robotika dan juga AI pada umumnya.\n",
    "\n",
    "Untuk versi Python yang akan kita gunakan adalah Python 3 (3.10.8), dapat diunduh pada Microsoft Store (untuk laptop Windows) atau melalui website resmi Python (https://www.python.org).\n",
    "\n",
    "Untuk yang menggunakan OS linux debian-based dapat melakukan instalasi dengan membuka terminal dan memasukkan command ``sudo apt-get update && sudo apt-get install python3``\n",
    "\n",
    "Untuk pengguna Mac OS dapat mengunduh pada tautan berikut (https://www.python.org/ftp/python/3.10.8/python-3.10.8-macos11.pkg) dan langsung melakukan instalasi."
   ]
  },
  {
   "cell_type": "markdown",
   "metadata": {},
   "source": [
    "## Hello World\n",
    "Langkah selanjutnya adalah, kita akan membuat file program (namai apa saja bebas) dengan ekstensi .py. Selanjutnya, kita akan membahas mengenai cara mengoutput teks ke layar dengan Python. Kodenya adalah sebagai berikut :"
   ]
  },
  {
   "cell_type": "code",
   "execution_count": 1,
   "metadata": {},
   "outputs": [
    {
     "name": "stdout",
     "output_type": "stream",
     "text": [
      "Hello World\n"
     ]
    }
   ],
   "source": [
    "print(\"Hello World\")"
   ]
  },
  {
   "cell_type": "markdown",
   "metadata": {},
   "source": [
    "Perhatikan bahwa Python **tidak memerlukan titik koma (;) !!** \n",
    "\n",
    "Meskipun demikian, Python sensitif terhadap indentasi. Artinya, perhatikan perbedaan spasi antar baris dalam kodingan!!"
   ]
  },
  {
   "cell_type": "markdown",
   "metadata": {},
   "source": [
    "## Variabel dan Input pengguna\n",
    "Python adalah bahasa pemrograman yang *weakly-typed*. Artinya pada bahasa pemrograman ini kita tidak perlu menentukan tipe data apa yang akan digunakan untuk suatu variabel. Kita hanya perlu untuk mendeklarasikan variabel dan memasukkan isi ke dalamnya dan setelah itu interpreter Python akan menentukan secara otomatis tipe data yang digunakan untuk setiap variabel.\n",
    "\n",
    "Python juga dapat menerima input dari pengguna dengan cara menggunakan fungsi input() saat menginisiasi variabel."
   ]
  },
  {
   "cell_type": "code",
   "execution_count": 2,
   "metadata": {},
   "outputs": [
    {
     "name": "stdout",
     "output_type": "stream",
     "text": [
      "Nama anda adalah rahman\n",
      "NPM anda adalah 25\n"
     ]
    }
   ],
   "source": [
    "nama = input('Masukkan nama anda : ')\n",
    "npm = input('Masukkan npm anda')\n",
    "\n",
    "print ('Nama anda adalah ' + nama)\n",
    "print ('NPM anda adalah ' + npm)"
   ]
  },
  {
   "cell_type": "markdown",
   "metadata": {},
   "source": [
    "## Operasi Aritmatika dan Konkatenasi String\n",
    "Sama seperti bahasa pemrograman lainnya, Python juga dapat melakukan operasi aritmatika (penjumlahan, pengurangan, perkalian, pembagian, dan modulo). Python juga dapat melakukan konkatenasi (penggabungan) string. Perhatikan pada potongan kode sebelumnya kita sudah melakukan konkatenasi string. Meskipun demikian, jika ada Integer atau tipe data lain selain string yang terapit di antara string maka ia harus dikonversi terlebih dahulu menjadi string."
   ]
  },
  {
   "cell_type": "code",
   "execution_count": 3,
   "metadata": {},
   "outputs": [
    {
     "name": "stdout",
     "output_type": "stream",
     "text": [
      "8\n",
      "4\n",
      "12\n",
      "3.0\n",
      "0\n",
      "64\n"
     ]
    },
    {
     "ename": "TypeError",
     "evalue": "can only concatenate str (not \"int\") to str",
     "output_type": "error",
     "traceback": [
      "\u001b[1;31m---------------------------------------------------------------------------\u001b[0m",
      "\u001b[1;31mTypeError\u001b[0m                                 Traceback (most recent call last)",
      "Input \u001b[1;32mIn [3]\u001b[0m, in \u001b[0;36m<cell line: 11>\u001b[1;34m()\u001b[0m\n\u001b[0;32m      8\u001b[0m \u001b[38;5;28mprint\u001b[39m(angka2 \u001b[38;5;241m%\u001b[39m angka1) \u001b[38;5;66;03m# Modulo\u001b[39;00m\n\u001b[0;32m      9\u001b[0m \u001b[38;5;28mprint\u001b[39m(angka1 \u001b[38;5;241m*\u001b[39m\u001b[38;5;241m*\u001b[39m angka2) \u001b[38;5;66;03m# Perpangkatan (angka1 pangkat angka2)\u001b[39;00m\n\u001b[1;32m---> 11\u001b[0m \u001b[38;5;28mprint\u001b[39m(\u001b[38;5;124;43m'\u001b[39;49m\u001b[38;5;124;43mKuadrat dari \u001b[39;49m\u001b[38;5;124;43m'\u001b[39;49m\u001b[43m \u001b[49m\u001b[38;5;241;43m+\u001b[39;49m\u001b[43m \u001b[49m\u001b[43mangka2\u001b[49m \u001b[38;5;241m+\u001b[39m \u001b[38;5;124m'\u001b[39m\u001b[38;5;124m adalah \u001b[39m\u001b[38;5;124m'\u001b[39m \u001b[38;5;241m+\u001b[39m (angka2 \u001b[38;5;241m*\u001b[39m\u001b[38;5;241m*\u001b[39m angka1))\n",
      "\u001b[1;31mTypeError\u001b[0m: can only concatenate str (not \"int\") to str"
     ]
    }
   ],
   "source": [
    "angka1 = 2\n",
    "angka2 = 6\n",
    "\n",
    "print(angka1 + angka2) # Penjumlahan\n",
    "print(angka2 - angka1) # Pengurangan\n",
    "print(angka1 * angka2) # Perkalian\n",
    "print(angka2 / angka1) # Pembagian\n",
    "print(angka2 % angka1) # Modulo\n",
    "print(angka1 ** angka2) # Perpangkatan (angka1 pangkat angka2)\n",
    "\n",
    "# print('Kuadrat dari ' + angka2 + ' adalah ' + (angka2 ** angka1)) #--> Error\n",
    "print('Kuadrat dari ' + str(angka2) + ' adalah ' + str(angka2 ** angka1))"
   ]
  },
  {
   "cell_type": "markdown",
   "metadata": {},
   "source": [
    "## List, Tuples, Sets, and Dictionaries\n",
    "### List\n",
    "List pada dasarnya adalah array pada bahasa pemrograman lain."
   ]
  },
  {
   "cell_type": "code",
   "execution_count": 4,
   "metadata": {},
   "outputs": [
    {
     "name": "stdout",
     "output_type": "stream",
     "text": [
      "one\n",
      "three\n",
      "two\n",
      "four\n",
      "['one', 'two', 'three']\n",
      "['z', 'c', 'a']\n",
      "['a', 'c', 'z']\n",
      "['z', 'c', 'a']\n",
      "['a', 'c', 'z']\n",
      "['z', 'c', 'a']\n",
      "[5, 1, 10]\n",
      "['b', 'c']\n",
      "['c', 'd', 'e']\n",
      "['a', 'b', 'c', 'd']\n",
      "['a', 'b', 'c']\n",
      "['d', 'e']\n",
      "['a', 'b', 'c', 'd', 'e']\n",
      "['e', 'd', 'c', 'b', 'a']\n",
      "['e', 'd', 'c', 'b', 'a']\n"
     ]
    }
   ],
   "source": [
    "numbers = [\"one\", \"two\", \"three\"]\n",
    "\n",
    "print(numbers[0]) # one\n",
    "\n",
    "print(numbers[-1]) # three. This is awesome. If we pass negative value Python will start from the end.\n",
    "\n",
    "print(numbers[-2]) # two\n",
    "\n",
    "len(numbers) # 3. It just returns the length\n",
    "\n",
    "numbers.append(\"four\") # Append will add the element to the last. [\"one\", \"two\", \"three\", \"four\"]\n",
    "\n",
    "numbers.insert(1, \"wrong_one\") # Insert will insert the particular value to the appropiate position. [\"one\", \"wrong_one\", \"two\", \"three\", \"four\"]\n",
    "\n",
    "del numbers[1] # Will delete the value in the appropiate position. \"one\", \"two\", \"three\", \"four\"]\n",
    "\n",
    "# Pop will help you to remove the last element of an array\n",
    "popped_element = numbers.pop()\n",
    "\n",
    "print(popped_element) # four\n",
    "print(numbers) # [\"one\", \"two\", \"three\"]\n",
    "\n",
    "# Remove elements by value\n",
    "numbers.remove(\"two\") # [\"one\", \"three\"]. This will remove only the first occurence of an array.\n",
    "\n",
    "# Sorting Value\n",
    "alpha = [\"z\", \"a\", \"c\"]\n",
    "print(alpha)\n",
    "\n",
    "alpha.sort()\n",
    "print(alpha)\n",
    "\n",
    "alpha.sort(reverse=True)\n",
    "print(alpha) #[\"z\", \"c\" , \"a\"] Reverse sorting.\n",
    "\n",
    "alpha = [\"z\", \"c\", \"a\"]\n",
    "print(sorted(alpha)) # [\"a\", \"c\", \"z\"] This will just return the sorted array. It wont save the sorted array to the variable itself.\n",
    "\n",
    "print(alpha) # [\"z\", \"c\", \"a\"] As you can see, it's not sorted\n",
    "\n",
    "# Reversing an array\n",
    "nums = [10, 1, 5]\n",
    "nums.reverse()\n",
    "print(nums) # [5, 1, 10] It just reverses an array. It means it reads from last. It's not sorting it. It's just changing the chronological order.\n",
    "\n",
    "# Slicing elements\n",
    "alpha = ['a', 'b', 'c', 'd', 'e']\n",
    "print(alpha[1:3]) # ['b', 'c']. The first element is the starting index. And Python stops in the item before the second index.\n",
    "print(alpha[2:5]) # ['c', 'd', 'e']\n",
    "\n",
    "print(alpha[:4]) # [ 'a', 'b', 'c', 'd'] In this case, the first index is not present, so Python startes from the beginning.\n",
    "\n",
    "print(alpha[:3]) # ['a', 'b', 'c']\n",
    "\n",
    "print(alpha[3:]) # ['d', 'e'] In this case, last index is not present. So it travels till the end of the list.\n",
    "\n",
    "print(alpha[:]) # ['a', 'b', 'c', 'd', 'e'] There is no starting or ending index. So you know what happens. And this helps you in copying the entire array. I think I don't have to explain that if you copy the array, then any changes in the original array won't affect the copied array.\n",
    "\n",
    "another_alpha = alpha # This is not copying the array. Any changes in alpha will affect another_alpha too.\n",
    "\n",
    "alpha.sort(reverse=True)\n",
    "print(alpha)\n",
    "print(another_alpha)"
   ]
  },
  {
   "cell_type": "markdown",
   "metadata": {},
   "source": [
    "### Tuples\n",
    "Tuple seperti list, namun ia *immutable*. Artinya, isi di dalam Tuple tidak dapat diubah."
   ]
  },
  {
   "cell_type": "code",
   "execution_count": 5,
   "metadata": {},
   "outputs": [
    {
     "name": "stdout",
     "output_type": "stream",
     "text": [
      "(1, 2, 3)\n",
      "1\n",
      "3\n",
      "<class 'int'>\n",
      "(1, 2, 3, 'a')\n"
     ]
    }
   ],
   "source": [
    "nums = (1, 2, 3)\n",
    "\n",
    "print(nums) # (1, 2, 3)\n",
    "\n",
    "print(nums[0]) # 1\n",
    "\n",
    "print(len(nums)) # 3\n",
    "\n",
    "empty_tuple = () # empty tuple. Length is zero.\n",
    "\n",
    "num = (1, ) # Note the trailing comma. When defining a single element in the tuple, consider adding a trailing comma.\n",
    "\n",
    "num = (1)\n",
    "print(type(num)) # <type 'int'> It won't return a tuple. Because there is no trailing comma.\n",
    "\n",
    "# Creating a new tuple from the existing tuple\n",
    "nums = (1, 2, 3)\n",
    "char = ('a', )\n",
    "new_tuple = nums + char\n",
    "print(new_tuple) # (1, 2, 3, 'a')"
   ]
  },
  {
   "cell_type": "markdown",
   "metadata": {},
   "source": [
    "### Sets\n",
    "Merupakan sekumpulan nilai yang tak berindeks dan juga tidak ada elemen yang duplikat (isi dalam set selalu unik)."
   ]
  },
  {
   "cell_type": "code",
   "execution_count": 6,
   "metadata": {},
   "outputs": [
    {
     "name": "stdout",
     "output_type": "stream",
     "text": [
      "{'b', 'a', 'c'}\n",
      "b\n",
      "a\n",
      "c\n"
     ]
    }
   ],
   "source": [
    "alpha = {'a', 'b', 'c', 'a'}\n",
    "\n",
    "print(alpha) # set(['a', 'c', 'b']) As you can see, duplicates are removed in sets. And also the output is not ordered.\n",
    "\n",
    "# Accessing items in set\n",
    "# You can't access by index because Sets are unordered. You can access it only by loop. Don't worry about the for loop, we will get that in-depth in the following section.\n",
    "for ele in alpha:\n",
    "  print(ele)\n",
    "\n",
    "# To add element into the set\n",
    "alpha.add('s')\n",
    "\n",
    "# add can be used to insert only one element. If you want multiple elements, then update will be handy\n",
    "alpha.update(['a', 'x', 'z']) # set(['a', 'c', 'b', 'x', 'z']) Remember duplicated are removed.\n",
    "\n",
    "# Length of the alpha\n",
    "len(alpha) # 5\n",
    "\n",
    "# Remove the element from the set\n",
    "alpha.remove('a')\n",
    "alpha.discard('a') # It's safer to use discard than remove. Discard will never throw an error even if the element is not present in the set but remove will do."
   ]
  },
  {
   "cell_type": "markdown",
   "metadata": {},
   "source": [
    "### Dictionaries\n",
    "Merupakan sekumpulan key-value pada python. Ia juga tidak memiliki indeks"
   ]
  },
  {
   "cell_type": "code",
   "execution_count": 7,
   "metadata": {},
   "outputs": [
    {
     "name": "stdout",
     "output_type": "stream",
     "text": [
      "1\n",
      "John wick\n",
      "dict_keys(['id', 'name', 'email', 'age'])\n",
      "dict_values([1, 'John wick', 'john@gmail.com', 35])\n",
      "[{'id': 10, 'name': 'Project 1'}, {'id': 11, 'name': 'Project 2'}]\n"
     ]
    }
   ],
   "source": [
    "user = {'id': 1, 'name': 'John wick', 'email': 'john@gmail.com'}\n",
    "\n",
    "print(user['id']) # 1\n",
    "print(user['name']) # John wick\n",
    "\n",
    "# Length of the dict\n",
    "len(user) # 3\n",
    "\n",
    "# Add new key-value pair\n",
    "user['age'] = 35\n",
    "\n",
    "# To get all the keys\n",
    "keys = user.keys() # ['id', 'name', 'email', 'age']. This will return a list.\n",
    "print(keys)\n",
    "\n",
    "# To get all the values\n",
    "values = user.values() \n",
    "print(values)\n",
    "\n",
    "# To delete a key\n",
    "del user['age']\n",
    "\n",
    "# Example of nested dict.\n",
    "user = {\n",
    "  'id': 1,\n",
    "  'name': 'John wick',\n",
    "  'cars': ['audi', 'bmw', 'tesla'],\n",
    "  'projects': [\n",
    "    {\n",
    "      'id': 10,\n",
    "      'name': 'Project 1'\n",
    "    },\n",
    "    {\n",
    "      'id': 11,\n",
    "      'name': 'Project 2'\n",
    "    }\n",
    "  ]\n",
    "}\n",
    "\n",
    "print(user['projects'])"
   ]
  },
  {
   "cell_type": "markdown",
   "metadata": {},
   "source": [
    "## Conditional Statement\n",
    "Seperti bahasa pemrograman lainnya, Python memiliki if-else untuk Conditional Statement. Untuk kondisi yang memerlukan lebih dari if-else, ada elif sebagai pengganti else if."
   ]
  },
  {
   "cell_type": "code",
   "execution_count": 8,
   "metadata": {},
   "outputs": [
    {
     "name": "stdout",
     "output_type": "stream",
     "text": [
      "Awesome\n",
      "A is five and b is ten\n",
      "A is five\n",
      "A should be less than 6 or should be equal to ten\n",
      "A is not equal to 10\n",
      "A is five\n",
      "A is five\n"
     ]
    }
   ],
   "source": [
    "a = 5\n",
    "b = 10\n",
    "\n",
    "# See for the indentation. Indentations are very important in Python. Python will throw error if indentations are proper.\n",
    "if a == 5:\n",
    "  print('Awesome')\n",
    "\n",
    "# and is equivalent to && \n",
    "if a == 5 and b == 10:\n",
    "  print('A is five and b is ten')\n",
    "\n",
    "# if else statement. This is same as most of the languages.\n",
    "if a == 5:\n",
    "  print('A is five')\n",
    "elif a == 6:\n",
    "  print('A is six')\n",
    "elif a == 7:\n",
    "  print('A is seven')\n",
    "else:\n",
    "  print('A is some number')\n",
    "\n",
    "# or is equivalent to ||\n",
    "if a < 6 or a == 10:\n",
    "  print('A should be less than 6 or should be equal to ten')\n",
    "\n",
    "# not is equivalent to !\n",
    "if not a == 10:\n",
    "  print('A is not equal to 10')\n",
    "\n",
    "# This is the short-hand notation of if statement.\n",
    "if a == 5: print('A is five')\n",
    "\n",
    "# Short-hand for if-else statement.\n",
    "print('A is five') if a == 5 else print('A is not five')"
   ]
  },
  {
   "cell_type": "markdown",
   "metadata": {},
   "source": [
    "## Looping\n",
    "Python juga memiliki kemampuan looping. Looping pada python terdiri dari dua macam yaitu for dan while.\n",
    "\n",
    "### While Loop"
   ]
  },
  {
   "cell_type": "code",
   "execution_count": 9,
   "metadata": {},
   "outputs": [
    {
     "name": "stdout",
     "output_type": "stream",
     "text": [
      "0\n",
      "1\n",
      "2\n",
      "3\n",
      "4\n",
      "5\n",
      "0\n",
      "1\n",
      "10\n",
      "11\n",
      "12\n",
      "13\n",
      "14\n",
      "15\n",
      "Completed\n",
      "10\n",
      "11\n",
      "12\n"
     ]
    }
   ],
   "source": [
    "# The following while print till 5. Remember the indentation.\n",
    "i = 0\n",
    "while i <= 5:\n",
    "  print(i)\n",
    "  i += 1\n",
    "\n",
    "# Using brake or continue in while loop\n",
    "i = 0\n",
    "while i <= 5:\n",
    "  print(i)\n",
    "  i += 1\n",
    "  if i == 2:\n",
    "    break # You can try using continue here\n",
    "\n",
    "# Here comes the interesting part. While loop has else part. Else part will execute once the entire loop is completed.\n",
    "i = 10\n",
    "while i <= 15:\n",
    "  print(i)\n",
    "  i += 1\n",
    "else:\n",
    "  print('Completed')\n",
    "\n",
    "# But if you are using break in the loop, then Python will break out of the entire loop and it won't execute else part.\n",
    "i = 10\n",
    "while i <= 15:\n",
    "  print(i)\n",
    "  i += 1\n",
    "  if i == 13:\n",
    "    break\n",
    "else:\n",
    "  print('Completed')"
   ]
  },
  {
   "cell_type": "markdown",
   "metadata": {},
   "source": [
    "### For Loop"
   ]
  },
  {
   "cell_type": "code",
   "execution_count": 10,
   "metadata": {},
   "outputs": [
    {
     "name": "stdout",
     "output_type": "stream",
     "text": [
      "a\n",
      "b\n",
      "c\n",
      "d\n",
      "e\n",
      "p\n",
      "y\n",
      "t\n",
      "h\n",
      "o\n",
      "n\n",
      "0\n",
      "1\n",
      "2\n",
      "a\n",
      "b\n",
      "c\n",
      "d\n",
      "e\n",
      "name is John wick\n",
      "a is present in 0\n",
      "b is present in 1\n",
      "c is present in 2\n",
      "d is present in 3\n",
      "e is present in 4\n"
     ]
    }
   ],
   "source": [
    "# For loops like for(i=0; i<5; i++) are not mostly used in Python. Instead, Python insists on iterating over items\n",
    "\n",
    "arr = ['a', 'b', 'c', 'd', 'e']\n",
    "for ele in arr: # Prints every element in an array\n",
    "  print(ele)\n",
    "\n",
    "word = \"python\"\n",
    "for char in word: # Prints every char in the word\n",
    "  print(char)\n",
    "\n",
    "# You can use break, continue and else part in for-loop also.\n",
    "\n",
    "# When talking about for loops, I noticed that most resources have also mentioned about range() function. (We will deal with functions later part of this article.)\n",
    "\n",
    "# range() function will generates a sequence of numbers.\n",
    "\n",
    "# range(start, stop, step)\n",
    "# start - optional, the starting number. Default is 0. This number is included in the sequence\n",
    "# stop - mandatory, the ending number. This number is excluded in the sequence\n",
    "# step - optional, increments by. Default is 1.\n",
    "\n",
    "range(3) # This code generates a sequences from 0 to 2.\n",
    "range(1, 4) # This code generates a sequence from 1 to 3.\n",
    "range(1, 8, 2) # This code generates a sequence with 1, 3, 5, 7\n",
    "\n",
    "for ele in range(3): # Prints from 0 to 2. \n",
    "  print(ele)\n",
    "\n",
    "# In the below example, you can see I have used range to iterate through an array with index.\n",
    "for index in range(0, len(arr)):\n",
    "  print(arr[index])\n",
    "\n",
    "dict = {'name': 'John wick'}\n",
    "\n",
    "# You can iterate through a dictionary. items() will return both keys and values. You can also use keys() and values() if needed. \n",
    "for key, value in dict.items():\n",
    "  print(key + \" is \" + value)\n",
    "\n",
    "# You can also use a built-in function enumerate(). enumurate() will return a tuple with index. It is mostly used to add a counter to the iterable objects in Python.\n",
    "for index, value in enumerate(arr):\n",
    "  print(value + \" is present in \" + str(index))"
   ]
  },
  {
   "cell_type": "markdown",
   "metadata": {},
   "source": [
    "## Functions\n",
    "Kita juga dapat membuat function untuk memodularkan dan merapikan kodingan yang kita buat."
   ]
  },
  {
   "cell_type": "code",
   "execution_count": 11,
   "metadata": {},
   "outputs": [
    {
     "name": "stdout",
     "output_type": "stream",
     "text": [
      "Hello world from Python\n",
      "Hello world from Python\n"
     ]
    },
    {
     "ename": "TypeError",
     "evalue": "prints_something() missing 1 required positional argument: 'something'",
     "output_type": "error",
     "traceback": [
      "\u001b[1;31m---------------------------------------------------------------------------\u001b[0m",
      "\u001b[1;31mTypeError\u001b[0m                                 Traceback (most recent call last)",
      "\u001b[1;32mc:\\kuliah\\KKM\\IRC\\PythonCrashCourse\\pyCrashCourse.ipynb Cell 24\u001b[0m in \u001b[0;36m<cell line: 13>\u001b[1;34m()\u001b[0m\n\u001b[0;32m     <a href='vscode-notebook-cell:/c%3A/kuliah/KKM/IRC/PythonCrashCourse/pyCrashCourse.ipynb#X40sZmlsZQ%3D%3D?line=9'>10</a>\u001b[0m \u001b[39mprint\u001b[39m(prints_something(\u001b[39m'\u001b[39m\u001b[39mHello world\u001b[39m\u001b[39m'\u001b[39m))\n\u001b[0;32m     <a href='vscode-notebook-cell:/c%3A/kuliah/KKM/IRC/PythonCrashCourse/pyCrashCourse.ipynb#X40sZmlsZQ%3D%3D?line=11'>12</a>\u001b[0m \u001b[39m# If you pass wrong number of arguments like two or three arguments to this function then Python will throw an error.\u001b[39;00m\n\u001b[1;32m---> <a href='vscode-notebook-cell:/c%3A/kuliah/KKM/IRC/PythonCrashCourse/pyCrashCourse.ipynb#X40sZmlsZQ%3D%3D?line=12'>13</a>\u001b[0m \u001b[39mprint\u001b[39m(prints_something())\n\u001b[0;32m     <a href='vscode-notebook-cell:/c%3A/kuliah/KKM/IRC/PythonCrashCourse/pyCrashCourse.ipynb#X40sZmlsZQ%3D%3D?line=14'>15</a>\u001b[0m \u001b[39m# Default parameter. I think its common in most languages now.\u001b[39;00m\n\u001b[0;32m     <a href='vscode-notebook-cell:/c%3A/kuliah/KKM/IRC/PythonCrashCourse/pyCrashCourse.ipynb#X40sZmlsZQ%3D%3D?line=15'>16</a>\u001b[0m \u001b[39mdef\u001b[39;00m \u001b[39mprints_something\u001b[39m(something \u001b[39m=\u001b[39m \u001b[39m'\u001b[39m\u001b[39mHello world\u001b[39m\u001b[39m'\u001b[39m):\n",
      "\u001b[1;31mTypeError\u001b[0m: prints_something() missing 1 required positional argument: 'something'"
     ]
    }
   ],
   "source": [
    "def prints_hello_world():\n",
    "  print('Hello world from Python')\n",
    "\n",
    "prints_hello_world()\n",
    "\n",
    "# Return statement\n",
    "def prints_something(something):\n",
    "  return something + ' from Python'\n",
    "\n",
    "print(prints_something('Hello world'))\n",
    "\n",
    "# If you pass wrong number of arguments like two or three arguments to this function then Python will throw an error.\n",
    "print(prints_something())\n",
    "\n",
    "# Default parameter. I think its common in most languages now.\n",
    "def prints_something(something = 'Hello world'):\n",
    "  print(something + ' from Python')\n",
    "\n",
    "# keyword arguments. You can pass explicitly which parameter should be matched. In this way, you don't have to send the arguments in order just explicitly mention the parameter name.\n",
    "def movie_info(title, director_name, ratings):\n",
    "  print(title + \" - \" + director_name + \" - \" + ratings)\n",
    "\n",
    "movie_info(ratings='9/10', director_name='David Fincher', title='Fight Club')\n",
    "\n",
    "\n",
    "# Arbitrary number of arguments\n",
    "# Sometimes, you dont know how many arguments are passed. In that case, you have ask Python to accept as many arguments as possible.\n",
    "\n",
    "def languages(*names):\n",
    "  print(names) # ('Python', 'Ruby', 'JavaScript', 'Go'). This is a tuple.\n",
    "  return 'You have mentioned '+ str(len(names))+ ' languages'\n",
    "\n",
    "print(languages('Python', 'Ruby', 'JavaScript', 'Go')) # You have mentioned 4 languages\n",
    "\n",
    "def languages(fav_language, *names):\n",
    "  print(names) # ('Ruby', 'JavaScript', 'Go')\n",
    "  return 'My favorite language is ' + fav_language+ '. And Im planning to learn other '+ str(len(names))+ ' languages too'\n",
    "\n",
    "print(languages('Python', 'Ruby', 'JavaScript', 'Go')) # My favorite language is Python. And Im planning to learn other 3 languages too\n",
    "\n",
    "\n",
    "# Arbitrary keyword arguments\n",
    "# These types of arguments are useful when you don't know what kind of parameters are passed. In the previous case, it's useful when you don't know how many number of parameters are passed but in this case, you don't know what type of information will be passed.\n",
    "\n",
    "def user_info(**info):\n",
    "  print(info) # {'id': 1, 'name': 'Srebalaji', 'fav_language': ['Python', 'Ruby']} This is a dictionary\n",
    "\n",
    "# Arbitrary keyword args will always expect to mention the parameters explicitly\n",
    "user_info(id=1, name='Srebalaji', fav_language=['Python', 'Ruby'])\n",
    "\n",
    "# The below code will throw error. There is no keyword arguments.\n",
    "user_info(1, 'Srebalaji')\n",
    "\n",
    "def user_info(id, name, **info):\n",
    "  print(info) # {'fav_language': ['Python', 'Ruby'], 'twitter_handle': '@srebalaji'}\n",
    "\n",
    "user_info(1, 'Srebalaji', fav_language=['Python', 'Ruby'], twitter_handle='@srebalaji')"
   ]
  },
  {
   "cell_type": "markdown",
   "metadata": {},
   "source": [
    "## Exception Handling\n",
    "Python juga memiliki kemampuan untuk Exception Handling, sehingga ia dapat menangani kondisi yang sekiranya dapat menimbulkan error pada program"
   ]
  },
  {
   "cell_type": "code",
   "execution_count": 12,
   "metadata": {},
   "outputs": [
    {
     "name": "stdout",
     "output_type": "stream",
     "text": [
      "Exception handled\n",
      "Exception raised\n",
      "<class 'ZeroDivisionError'>\n",
      "Exception handled\n",
      "Exception raised\n",
      "This code will run whether the code has error or not.\n",
      "<class 'ZeroDivisionError'>\n",
      "Only zero division exception is captured\n"
     ]
    }
   ],
   "source": [
    "# The code which can raise exceptions can be wrapped in 'try' statement. 'except' will handle that exception.\n",
    "try:\n",
    "  print(1/0)\n",
    "except:\n",
    "  print('Exception handled')\n",
    "\n",
    "# Every exception in Python will inherit from 'exception' class. \n",
    "\n",
    "# In the below example, you can see that the 'NameError' is the exception class derived from the main 'Exception' class.\n",
    "try:\n",
    "  print(1/0)\n",
    "except Exception as e:\n",
    "  print('Exception raised')\n",
    "  print(e.__class__) # <class 'NameError'>\n",
    "\n",
    "# 'else' block will execute if the code in the 'try' block has raised no exception. This will be useful in many situations.\n",
    "\n",
    "try:\n",
    "  print(1/0)\n",
    "except:\n",
    "  print('Exception handled')\n",
    "else:\n",
    "  print('No error raised. You can resume your operation here') # this code will execute if no error is raised in the 'try' block\n",
    "\n",
    "# final block\n",
    "# Code in 'finally' block will execute no matter whether the exception is raised or not.\n",
    "try:\n",
    "  print(1/0)\n",
    "except Exception as e:\n",
    "  print('Exception raised')\n",
    "else:\n",
    "  print('This will execute if no error is raised in try')\n",
    "finally:\n",
    "  print('This code will run whether the code has error or not.')\n",
    "\n",
    "\n",
    "# Raise your own exception. You can also create your own exception class inherited from Exception class.\n",
    "try:\n",
    "  raise ZeroDivisionError # Python built-in exception class\n",
    "except Exception as e:\n",
    "  print(e.__class__) # <class 'ZeroDivisionError'>\n",
    "\n",
    "# Catch a specific exception.\n",
    "try:\n",
    "  raise ZeroDivisionError # Python built-in exception class\n",
    "except TypeError as e:\n",
    "  print('Only type error exception is captured')\n",
    "except ZeroDivisionError as e:\n",
    "  print('Only zero division exception is captured')\n",
    "except Exception as e:\n",
    "  print('Other execeptions')"
   ]
  }
 ],
 "metadata": {
  "kernelspec": {
   "display_name": "Python 3 (ipykernel)",
   "language": "python",
   "name": "python3"
  },
  "language_info": {
   "codemirror_mode": {
    "name": "ipython",
    "version": 3
   },
   "file_extension": ".py",
   "mimetype": "text/x-python",
   "name": "python",
   "nbconvert_exporter": "python",
   "pygments_lexer": "ipython3",
   "version": "3.9.13"
  },
  "vscode": {
   "interpreter": {
    "hash": "5e614529c00cdc88bb331a96e493634bfe7369685f78a57a0823bb629d068bd1"
   }
  }
 },
 "nbformat": 4,
 "nbformat_minor": 2
}
